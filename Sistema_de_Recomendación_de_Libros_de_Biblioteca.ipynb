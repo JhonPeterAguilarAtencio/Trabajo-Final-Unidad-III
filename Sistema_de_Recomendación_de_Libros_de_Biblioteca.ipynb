{
  "nbformat": 4,
  "nbformat_minor": 0,
  "metadata": {
    "colab": {
      "name": "Sistema de Recomendación de Libros de Biblioteca.ipynb",
      "version": "0.3.2",
      "provenance": [],
      "include_colab_link": true
    },
    "kernelspec": {
      "name": "python3",
      "display_name": "Python 3"
    }
  },
  "cells": [
    {
      "cell_type": "markdown",
      "metadata": {
        "id": "view-in-github",
        "colab_type": "text"
      },
      "source": [
        "<a href=\"https://colab.research.google.com/github/JhonPeterAguilarAtencio/Trabajo-Final-Unidad-III/blob/master/Sistema_de_Recomendaci%C3%B3n_de_Libros_de_Biblioteca.ipynb\" target=\"_parent\"><img src=\"https://colab.research.google.com/assets/colab-badge.svg\" alt=\"Open In Colab\"/></a>"
      ]
    },
    {
      "cell_type": "code",
      "metadata": {
        "id": "crIXxgez9WTp",
        "colab_type": "code",
        "colab": {}
      },
      "source": [
        "print('Hello Mundo')"
      ],
      "execution_count": 0,
      "outputs": []
    }
  ]
}